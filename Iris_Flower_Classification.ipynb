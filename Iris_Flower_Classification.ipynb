{
 "cells": [
  {
   "cell_type": "markdown",
   "id": "d8356d3d",
   "metadata": {},
   "source": [
    "## AUTHOR - Achyut Yadav"
   ]
  },
  {
   "cell_type": "markdown",
   "id": "2d29baf1",
   "metadata": {},
   "source": [
    "### BEGINNER LEVEL TASK"
   ]
  },
  {
   "cell_type": "markdown",
   "id": "0a0397d1",
   "metadata": {},
   "source": [
    "### TASK-1- Iris Flowers Classification ML Project :\n",
    "\n",
    "This particular ML project is usually referred to as the “Hello World” of Machine Learning. The iris flowers dataset contains numeric attributes, and it is perfect for beginners to learn about supervised ML algorithms, mainly how to load and handle data. Also, since this is a small dataset, it can easily fit in memory without requiring special transformations or scaling capabilities."
   ]
  },
  {
   "cell_type": "markdown",
   "id": "a91640d5",
   "metadata": {},
   "source": [
    "#### Dataset link : http://archive.ics.uci.edu/ml/machine-learning-databases/iris"
   ]
  },
  {
   "cell_type": "markdown",
   "id": "fbf50c35",
   "metadata": {},
   "source": [
    "##### Importing Libraries"
   ]
  },
  {
   "cell_type": "code",
   "execution_count": null,
   "id": "d8ae66db",
   "metadata": {},
   "outputs": [],
   "source": [
    "import numpy as np\n",
    "import pandas as pd\n",
    "import matplotlib.pyplot as plt\n",
    "%matplotlib inline\n",
    "import seaborn as sns\n",
    "from sklearn.preprocessing import LabelEncoder\n",
    "from sklearn.model_selection import train_test_split\n",
    "from sklearn.linear_model import LogisticRegression\n",
    "from sklearn.svm import SVC,LinearSVC\n",
    "from sklearn.tree import DecisionTreeClassifier\n",
    "from sklearn.naive_bayes import MultinomialNB\n",
    "from sklearn.neighbors import KNeighborsClassifier\n",
    "from sklearn.metrics import accuracy_score, plot_confusion_matrix, classification_report,confusion_matrix\n"
   ]
  },
  {
   "cell_type": "code",
   "execution_count": null,
   "id": "88a1907f",
   "metadata": {},
   "outputs": [],
   "source": [
    "df = pd.read_csv('http://archive.ics.uci.edu/ml/machine-learning-databases/iris/iris.data',\n",
    "                names=[\"Sepal_Length_in_cm\",\"Sepal_Width_in_cm\",\"Petal_Length_in_cm\",\"Petal_Width_in_cm\",\"Species_Flower\"])"
   ]
  },
  {
   "cell_type": "code",
   "execution_count": null,
   "id": "18ea930a",
   "metadata": {},
   "outputs": [],
   "source": [
    "df"
   ]
  },
  {
   "cell_type": "code",
   "execution_count": null,
   "id": "10fd3add",
   "metadata": {
    "scrolled": true
   },
   "outputs": [],
   "source": [
    "df.head(10)"
   ]
  },
  {
   "cell_type": "code",
   "execution_count": null,
   "id": "818aff2f",
   "metadata": {},
   "outputs": [],
   "source": [
    "df.shape"
   ]
  },
  {
   "cell_type": "code",
   "execution_count": null,
   "id": "6e703d08",
   "metadata": {},
   "outputs": [],
   "source": [
    "df.columns"
   ]
  },
  {
   "cell_type": "code",
   "execution_count": null,
   "id": "a29d8f2e",
   "metadata": {},
   "outputs": [],
   "source": [
    "df.info()\n"
   ]
  },
  {
   "cell_type": "code",
   "execution_count": null,
   "id": "234d836d",
   "metadata": {},
   "outputs": [],
   "source": [
    "df.isnull().sum()"
   ]
  },
  {
   "cell_type": "code",
   "execution_count": null,
   "id": "e4f9e74d",
   "metadata": {},
   "outputs": [],
   "source": [
    "df['Species_Flower'].unique()\n"
   ]
  },
  {
   "cell_type": "code",
   "execution_count": null,
   "id": "94c8b404",
   "metadata": {},
   "outputs": [],
   "source": [
    "df.describe()"
   ]
  },
  {
   "cell_type": "markdown",
   "id": "54de802f",
   "metadata": {},
   "source": [
    "## Data Visualisation"
   ]
  },
  {
   "cell_type": "code",
   "execution_count": null,
   "id": "947fa2ce",
   "metadata": {},
   "outputs": [],
   "source": [
    "sns.pairplot(df,hue=\"Species_Flower\")"
   ]
  },
  {
   "cell_type": "code",
   "execution_count": null,
   "id": "078805d8",
   "metadata": {},
   "outputs": [],
   "source": [
    "fig,(ax1,ax2)=plt.subplots(ncols=2,figsize=(16,5))\n",
    "sns.scatterplot(x='Sepal_Length_in_cm',y='Petal_Length_in_cm',data=df,hue='Species_Flower',ax=ax1)\n",
    "sns.scatterplot(x='Sepal_Width_in_cm',y='Petal_Width_in_cm',data=df,hue='Species_Flower',ax=ax2)"
   ]
  },
  {
   "cell_type": "code",
   "execution_count": null,
   "id": "3e3baf68",
   "metadata": {},
   "outputs": [],
   "source": [
    "plt.figure(figsize=(16,4))\n",
    "plt.subplot(1,4,1)\n",
    "sns.boxplot(data=df,y='Sepal_Length_in_cm')\n",
    "plt.subplot(1,4,2)\n",
    "sns.boxplot(data=df,y='Sepal_Width_in_cm',color='red')\n",
    "plt.subplot(1,4,3)\n",
    "sns.boxplot(data=df,y='Petal_Width_in_cm',color='orange')\n",
    "plt.subplot(1,4,4)\n",
    "sns.boxplot(data=df,y='Petal_Width_in_cm',color='cyan')"
   ]
  },
  {
   "cell_type": "code",
   "execution_count": null,
   "id": "c570def6",
   "metadata": {},
   "outputs": [],
   "source": [
    "sns.violinplot(y='Species_Flower', x='Sepal_Length_in_cm', data=df, inner='quartile')\n",
    "plt.show()\n",
    "sns.violinplot(y='Species_Flower', x='Sepal_Width_in_cm', data=df, inner='quartile')\n",
    "plt.show()\n",
    "sns.violinplot(y='Species_Flower', x='Petal_Length_in_cm', data=df, inner='quartile')\n",
    "plt.show()\n",
    "sns.violinplot(y='Species_Flower', x='Petal_Width_in_cm', data=df, inner='quartile')\n",
    "plt.show()\n"
   ]
  },
  {
   "cell_type": "code",
   "execution_count": null,
   "id": "6c2bbbef",
   "metadata": {},
   "outputs": [],
   "source": [
    "plt.figure(figsize=(7,5))\n",
    "sns.heatmap(df.corr(), annot=True,cmap='coolwarm')\n",
    "plt.show()"
   ]
  },
  {
   "cell_type": "markdown",
   "id": "7af4b29f",
   "metadata": {},
   "source": [
    "# Building Model , Training and Testing"
   ]
  },
  {
   "cell_type": "code",
   "execution_count": null,
   "id": "9135cf9e",
   "metadata": {},
   "outputs": [],
   "source": [
    "from sklearn.preprocessing import LabelEncoder\n",
    "le = LabelEncoder()"
   ]
  },
  {
   "cell_type": "code",
   "execution_count": null,
   "id": "6255bb34",
   "metadata": {},
   "outputs": [],
   "source": [
    "df['Species_Flower'] = le.fit_transform = (df['Species_Flower'])\n",
    "df.head(10)"
   ]
  },
  {
   "cell_type": "code",
   "execution_count": null,
   "id": "3f9fe0e0",
   "metadata": {},
   "outputs": [],
   "source": [
    "from sklearn.model_selection import train_test_split\n",
    "X = df.drop(columns=['Species_Flower'])\n",
    "Y = df['Species_Flower']\n",
    "x_train , x_test , y_train , y_test = train_test_split(X , Y , test_size = 0.3)"
   ]
  },
  {
   "cell_type": "markdown",
   "id": "6596a04c",
   "metadata": {},
   "source": [
    "# 1. Logistic Regression"
   ]
  },
  {
   "cell_type": "code",
   "execution_count": null,
   "id": "9bd80796",
   "metadata": {},
   "outputs": [],
   "source": [
    "# Initialize a Logistic Regression\n",
    "lg= LogisticRegression(max_iter=1000)"
   ]
  },
  {
   "cell_type": "code",
   "execution_count": null,
   "id": "3d4a21bd",
   "metadata": {},
   "outputs": [],
   "source": [
    "lg.fit(x_train,y_train)"
   ]
  },
  {
   "cell_type": "code",
   "execution_count": null,
   "id": "f73bc1dc",
   "metadata": {},
   "outputs": [],
   "source": [
    "# Predict on the test set and calculate accuracy\n",
    "y_pred=lg.predict(x_test)\n",
    "score=accuracy_score(y_test,y_pred)\n"
   ]
  },
  {
   "cell_type": "code",
   "execution_count": null,
   "id": "f899f414",
   "metadata": {},
   "outputs": [],
   "source": [
    "def report(model):\n",
    "    preds=model.predict(x_test)\n",
    "    print(classification_report(preds,y_test))\n",
    "    plot_confusion_matrix(model,x_test,y_test)"
   ]
  },
  {
   "cell_type": "code",
   "execution_count": null,
   "id": "56bc38ce",
   "metadata": {},
   "outputs": [],
   "source": [
    "print('Logistic Regression')\n",
    "report(lg)\n",
    "print(f'Accuracy: {round(score*100,2)}%')"
   ]
  },
  {
   "cell_type": "markdown",
   "id": "d8508689",
   "metadata": {},
   "source": [
    "# 2. Linear SVC"
   ]
  },
  {
   "cell_type": "code",
   "execution_count": null,
   "id": "4f3557ea",
   "metadata": {},
   "outputs": [],
   "source": [
    "# Initialize a Linear SVC\n",
    "rbf_sv= SVC()\n",
    "rbf_sv.fit(x_train,y_train)\n",
    "L_svc=LinearSVC()"
   ]
  },
  {
   "cell_type": "code",
   "execution_count": null,
   "id": "6079835e",
   "metadata": {},
   "outputs": [],
   "source": [
    "L_svc.fit(x_train,y_train)"
   ]
  },
  {
   "cell_type": "code",
   "execution_count": null,
   "id": "597eaa46",
   "metadata": {},
   "outputs": [],
   "source": [
    "# Predict on the test set and calculate accuracy\n",
    "y_pred=L_svc.predict(x_test)\n",
    "score=accuracy_score(y_test,y_pred)"
   ]
  },
  {
   "cell_type": "code",
   "execution_count": null,
   "id": "824936bf",
   "metadata": {},
   "outputs": [],
   "source": [
    "print('Linear SVC')\n",
    "report(L_svc)\n",
    "print(f'Accuracy: {round(score*100,2)}%')"
   ]
  },
  {
   "cell_type": "markdown",
   "id": "b861915e",
   "metadata": {},
   "source": [
    "# 3. Decision Tree Classifier"
   ]
  },
  {
   "cell_type": "code",
   "execution_count": null,
   "id": "14f54a8d",
   "metadata": {},
   "outputs": [],
   "source": [
    "DTC = DecisionTreeClassifier()"
   ]
  },
  {
   "cell_type": "code",
   "execution_count": null,
   "id": "7a24970d",
   "metadata": {},
   "outputs": [],
   "source": [
    "DTC=DTC.fit(x_train,y_train)"
   ]
  },
  {
   "cell_type": "code",
   "execution_count": null,
   "id": "043b5de3",
   "metadata": {},
   "outputs": [],
   "source": [
    "# Predict on the test set and calculate accuracy\n",
    "y_pred=DTC.predict(x_test)\n",
    "score=accuracy_score(y_test,y_pred)"
   ]
  },
  {
   "cell_type": "code",
   "execution_count": null,
   "id": "caf6a897",
   "metadata": {},
   "outputs": [],
   "source": [
    "print('Decision Tree Classifier')\n",
    "report(DTC)\n",
    "print(f'Accuracy: {round(score*100,2)}%')"
   ]
  },
  {
   "cell_type": "markdown",
   "id": "d9b5549f",
   "metadata": {},
   "source": [
    "# 4. Multinomial Naive Bayes"
   ]
  },
  {
   "cell_type": "code",
   "execution_count": null,
   "id": "abd4ec1c",
   "metadata": {},
   "outputs": [],
   "source": [
    "NB= MultinomialNB()"
   ]
  },
  {
   "cell_type": "code",
   "execution_count": null,
   "id": "8e0cf0a4",
   "metadata": {},
   "outputs": [],
   "source": [
    "NB.fit(x_train,y_train)"
   ]
  },
  {
   "cell_type": "code",
   "execution_count": null,
   "id": "a58b73ef",
   "metadata": {},
   "outputs": [],
   "source": [
    "# Predict on the test set and calculate accuracy\n",
    "y_pred=NB.predict(x_test)\n",
    "score=accuracy_score(y_test,y_pred)"
   ]
  },
  {
   "cell_type": "code",
   "execution_count": null,
   "id": "3669a69e",
   "metadata": {},
   "outputs": [],
   "source": [
    "print('NB')\n",
    "report(NB)\n",
    "print(f'Accuracy: {round(score*100,2)}%')"
   ]
  },
  {
   "cell_type": "markdown",
   "id": "56e2f6b5",
   "metadata": {},
   "source": [
    "# 5. KNN"
   ]
  },
  {
   "cell_type": "code",
   "execution_count": null,
   "id": "ab72936e",
   "metadata": {},
   "outputs": [],
   "source": [
    "KNN=KNeighborsClassifier(n_neighbors=6)"
   ]
  },
  {
   "cell_type": "code",
   "execution_count": null,
   "id": "7fe2cb03",
   "metadata": {},
   "outputs": [],
   "source": [
    "KNN.fit(x_train, y_train)\n"
   ]
  },
  {
   "cell_type": "code",
   "execution_count": null,
   "id": "571e1389",
   "metadata": {},
   "outputs": [],
   "source": [
    "# Predict on the test set and calculate accuracy\n",
    "y_pred=KNN.predict(x_test)\n",
    "score=accuracy_score(y_test,y_pred)"
   ]
  },
  {
   "cell_type": "code",
   "execution_count": null,
   "id": "9f8f53d8",
   "metadata": {},
   "outputs": [],
   "source": [
    "print('KNN')\n",
    "report(KNN)\n",
    "print(f'Accuracy: {round(score*100,2)}%')"
   ]
  },
  {
   "cell_type": "code",
   "execution_count": null,
   "id": "46fb20f7",
   "metadata": {},
   "outputs": [],
   "source": []
  }
 ],
 "metadata": {
  "kernelspec": {
   "display_name": "Python 3.8.10 64-bit",
   "language": "python",
   "name": "python3"
  },
  "language_info": {
   "codemirror_mode": {
    "name": "ipython",
    "version": 3
   },
   "file_extension": ".py",
   "mimetype": "text/x-python",
   "name": "python",
   "nbconvert_exporter": "python",
   "pygments_lexer": "ipython3",
   "version": "3.8.10"
  },
  "vscode": {
   "interpreter": {
    "hash": "570feb405e2e27c949193ac68f46852414290d515b0ba6e5d90d076ed2284471"
   }
  }
 },
 "nbformat": 4,
 "nbformat_minor": 5
}
